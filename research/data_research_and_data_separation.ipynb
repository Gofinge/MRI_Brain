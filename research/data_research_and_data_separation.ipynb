{
 "cells": [
  {
   "cell_type": "markdown",
   "metadata": {
    "collapsed": true,
    "pycharm": {
     "name": "#%% md\n"
    }
   },
   "source": [
    "# Data Research & Data Separation of MRI_brain\n",
    "## 0. import package and set config"
   ]
  },
  {
   "cell_type": "code",
   "execution_count": 1,
   "outputs": [],
   "source": [
    "# import package\n",
    "import os\n",
    "import h5py\n",
    "import numpy as np\n",
    "import pandas as pd\n"
   ],
   "metadata": {
    "collapsed": false,
    "pycharm": {
     "name": "#%%\n",
     "is_executing": false
    }
   }
  },
  {
   "cell_type": "code",
   "execution_count": 2,
   "outputs": [],
   "source": [
    "class config(object):\n",
    "    data_root = '/Users/gofinge/Documents/Data/BrainMRI_raw/train'\n",
    "    data_name = 'train_pre_data.h5'\n",
    "    label_name = 'train_pre_label.csv'\n",
    "    \n",
    "    export_dir = '/Users/gofinge/Documents/Data/BrainMRI/'\n",
    "\n",
    "conf = config()"
   ],
   "metadata": {
    "collapsed": false,
    "pycharm": {
     "name": "#%%\n",
     "is_executing": false
    }
   }
  },
  {
   "cell_type": "markdown",
   "source": [
    "## 1. load data & reshape"
   ],
   "metadata": {
    "collapsed": false
   }
  },
  {
   "cell_type": "code",
   "execution_count": 3,
   "outputs": [
    {
     "name": "stdout",
     "text": [
      "data\n(300, 1, 79, 95, 79)\n(300, 79, 95, 79)\n"
     ],
     "output_type": "stream"
    }
   ],
   "source": [
    "# load MRI\n",
    "f_raw = h5py.File(os.path.join(conf.data_root, conf.data_name), 'r')\n",
    "for key in f_raw.keys():\n",
    "    print(key)\n",
    "    print(f_raw[key].shape)\n",
    "\n",
    "mri = f_raw['data'][...]\n",
    "mri = np.squeeze(mri)\n",
    "print(mri.shape)"
   ],
   "metadata": {
    "collapsed": false,
    "pycharm": {
     "name": "#%%\n",
     "is_executing": false
    }
   }
  },
  {
   "cell_type": "code",
   "execution_count": 4,
   "outputs": [
    {
     "name": "stdout",
     "text": [
      "[1 0 0 1 0 1 2 1 1 2 2 0 1 2 1 0 2 1 2 1 0 1 2 2 1 0 1 0 1 1 0 2 1 1 1 1 0\n 1 1 1 2 1 2 0 1 2 1 2 0 1 2 2 1 2 1 1 2 1 2 1 1 2 1 0 2 1 0 0 0 1 2 0 1 0\n 1 1 1 1 2 0 1 0 1 1 1 2 1 2 0 1 2 1 1 1 1 2 1 0 1 0 0 2 1 1 1 1 1 1 0 1 1\n 2 2 1 2 2 0 1 0 2 1 0 2 2 0 1 2 2 0 1 1 1 1 1 1 1 1 2 0 0 0 0 0 2 0 1 1 1\n 0 2 1 0 1 2 0 1 2 2 1 1 0 2 2 1 0 2 1 1 2 1 2 1 0 0 1 1 1 1 1 1 0 2 1 1 1\n 2 1 1 1 1 2 0 0 2 1 2 1 2 1 1 2 1 0 2 1 1 1 0 1 2 2 0 2 1 0 1 0 1 0 2 1 2\n 1 1 0 1 1 1 1 1 2 1 1 1 1 1 0 1 2 1 2 2 0 0 1 0 0 1 0 2 1 1 0 1 2 0 2 2 2\n 0 1 1 0 1 0 2 1 2 1 2 1 1 1 2 2 1 0 1 1 1 2 1 1 1 0 2 1 2 1 2 1 1 0 2 1 2\n 1 1 0 2]\n<class 'numpy.ndarray'>\n"
     ],
     "output_type": "stream"
    }
   ],
   "source": [
    "# load label\n",
    "labels = np.array(pd.read_csv(os.path.join(conf.data_root, conf.label_name))['label'])\n",
    "print(labels)\n",
    "print(type(labels))"
   ],
   "metadata": {
    "collapsed": false,
    "pycharm": {
     "name": "#%%\n",
     "is_executing": false
    }
   }
  },
  {
   "cell_type": "code",
   "execution_count": 6,
   "outputs": [
    {
     "name": "stdout",
     "text": [
      "[1045, 1982, 1122, 2847, 2987, 1376, 1891, 1614, 1446, 1450, 3081, 660, 2860, 1255, 2259, 1006, 1123, 2076, 1879, 1601, 1547, 1934, 1962, 2497, 1001, 1624, 2037, 6128, 877, 1029, 940, 163, 161, 1620, 1991, 2281, 722, 853, 1985, 2109, 868, 706, 165, 1184, 2428, 2107, 2043, 956, 716, 2597, 155, 2247, 1179, 926, 1171, 135, 1268, 1344, 1004, 1219, 182, 1328, 2199, 1635, 178, 2185, 2348, 718, 814, 2758, 1624, 1337, 2248, 2416, 119, 1171, 122, 1585, 1383, 3214, 2863, 1347, 1481, 836, 2596, 891, 131, 859, 1341, 2233, 652, 1036, 3016, 2226, 3374, 1087, 1900, 1592, 1231, 1115, 815, 2498, 1157, 1540, 1046, 2010, 1171, 166, 2091, 648, 1425, 848, 862, 1159, 1677, 2401, 2217, 1305, 1233, 822, 1424, 929, 1112, 1283, 1655, 160, 1451, 159, 2168, 1171, 919, 1317, 859, 1281, 1097, 1584, 1382, 2631, 787, 1932, 156, 2077, 1247, 857, 2159, 1398, 2220, 1481, 861, 2013, 1011, 2281, 2249, 2286, 725, 2038, 1124, 598, 2659, 1393, 1118, 1539, 1732, 1721, 141, 2594, 1119, 948, 1028, 174, 2186, 1214, 1205, 1345, 2244, 2127, 1337, 825, 181, 759, 815, 2341, 991, 1311, 2286, 1403, 1677, 1555, 1173, 1343, 1630, 1120, 2319, 1068, 688, 1306, 1272, 2542, 1045, 982, 1841, 1297, 923, 858, 1346, 141, 1719, 139, 1015, 729, 2247, 1417, 1255, 1364, 1334, 155, 1941, 2452, 2371, 1306, 1908, 694, 1975, 790, 1234, 871, 1264, 1002, 1316, 833, 1389, 141, 1672, 158, 860, 158, 2276, 1313, 2187, 133, 1267, 867, 2554, 935, 1260, 1311, 2135, 1212, 1581, 1145, 2124, 1321, 855, 1161, 994, 138, 2219, 2327, 2140, 2019, 735, 2285, 145, 1583, 1588, 848, 1335, 1976, 1298, 1347, 2333, 2204, 1339, 1988, 1068, 1082, 2233, 959, 2412, 2426, 886, 1360, 915, 976, 1810, 798, 965, 707, 2135, 1133, 795, 2410, 1018, 1404, 187, 2247, 919, 1107, 934, 2706]\n"
     ],
     "output_type": "stream"
    }
   ],
   "source": [
    "# mri min max\n",
    "temp = list(mri)\n",
    "max_list = [int(np.max(i)) for i in temp]\n",
    "print(max_list)"
   ],
   "metadata": {
    "collapsed": false,
    "pycharm": {
     "name": "#%%\n",
     "is_executing": false
    }
   }
  },
  {
   "cell_type": "markdown",
   "source": [
    "## 2. separate mri & labels"
   ],
   "metadata": {
    "collapsed": false,
    "pycharm": {
     "name": "#%% md\n"
    }
   }
  },
  {
   "cell_type": "code",
   "source": [
    "# labels count\n",
    "index0 = np.where(labels == 0) # 68\n",
    "index1 = np.where(labels == 1) # 151\n",
    "index2 = np.where(labels == 2) # 81\n",
    "\n",
    "print(np.size(index0))\n",
    "print(np.size(index1))\n",
    "print(np.size(index2))"
   ],
   "metadata": {
    "collapsed": false,
    "pycharm": {
     "name": "#%%\n",
     "is_executing": false
    }
   },
   "execution_count": 16,
   "outputs": [
    {
     "name": "stdout",
     "text": [
      "68\n151\n81\n"
     ],
     "output_type": "stream"
    }
   ]
  },
  {
   "cell_type": "code",
   "execution_count": 43,
   "outputs": [
    {
     "name": "stdout",
     "text": [
      "(210, 79, 95, 79)\n(45, 79, 95, 79)\n(45, 79, 95, 79)\n"
     ],
     "output_type": "stream"
    }
   ],
   "source": [
    "# separation\n",
    "labels.sort()\n",
    "test_idx = list(np.linspace(0, 299, num = 45, endpoint = False, dtype = int))\n",
    "val_idx = [x+1 for x in test_idx]\n",
    "train_idx = list(np.delete([i for i in range(300)], test_idx + val_idx, axis = 0))\n",
    "\n",
    "train_mri = mri[train_idx]\n",
    "val_mri = mri[val_idx]\n",
    "test_mri = mri[test_idx]\n",
    "\n",
    "train_labels = labels[train_idx]\n",
    "val_labels = labels[val_idx]\n",
    "test_labels = labels[test_idx]\n",
    "\n",
    "print(train_mri.shape)\n",
    "print(val_mri.shape)\n",
    "print(test_mri.shape)"
   ],
   "metadata": {
    "collapsed": false,
    "pycharm": {
     "name": "#%%\n",
     "is_executing": false
    }
   }
  },
  {
   "cell_type": "code",
   "execution_count": 51,
   "outputs": [],
   "source": [
    "# save data\n",
    "def save_hdf5(data, labels, filename):\n",
    "    file = h5py.File(filename + '.h5','w')\n",
    "    file.create_dataset('data', data = data)\n",
    "    labels_str = [str(x) for x in labels]\n",
    "    np.savetxt(filename + '_labels.csv', labels_str, fmt = '%s')\n",
    "    \n",
    "    \n",
    "save_hdf5(train_mri, train_labels, os.path.join(conf.export_dir, 'train'))\n",
    "save_hdf5(val_mri, val_labels, os.path.join(conf.export_dir, 'val'))\n",
    "save_hdf5(test_mri, test_labels, os.path.join(conf.export_dir, 'test'))"
   ],
   "metadata": {
    "collapsed": false,
    "pycharm": {
     "name": "#%% \n",
     "is_executing": false
    }
   }
  }
 ],
 "metadata": {
  "kernelspec": {
   "display_name": "Python 3",
   "language": "python",
   "name": "python3"
  },
  "language_info": {
   "codemirror_mode": {
    "name": "ipython",
    "version": 2
   },
   "file_extension": ".py",
   "mimetype": "text/x-python",
   "name": "python",
   "nbconvert_exporter": "python",
   "pygments_lexer": "ipython2",
   "version": "2.7.6"
  },
  "pycharm": {
   "stem_cell": {
    "cell_type": "raw",
    "source": [],
    "metadata": {
     "collapsed": false
    }
   }
  }
 },
 "nbformat": 4,
 "nbformat_minor": 0
}